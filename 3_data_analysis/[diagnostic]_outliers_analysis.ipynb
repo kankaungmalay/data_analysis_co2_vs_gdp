{
 "cells": [
  {
   "cell_type": "markdown",
   "id": "df1df7d3",
   "metadata": {},
   "source": [
    "## Diagnostic Analytics - Outlier Analysis"
   ]
  },
  {
   "cell_type": "markdown",
   "id": "9dd02e50",
   "metadata": {},
   "source": [
    "### Table of Contents\n",
    "- Import package\n",
    "- Load dataset\n",
    "- Data Analysis\n",
    "    - Descriptive Analysis\n",
    "    - Exploratory Data Analysis\n",
    "    - Diagnostic Analysis\n",
    "- Interpretation\n",
    "- References"
   ]
  },
  {
   "cell_type": "markdown",
   "id": "705c777a",
   "metadata": {},
   "source": [
    "### Import Packages"
   ]
  },
  {
   "cell_type": "code",
   "execution_count": 1,
   "id": "116498f2",
   "metadata": {},
   "outputs": [],
   "source": [
    "import pandas as pd\n",
    "import seaborn as sns\n",
    "import numpy as np\n",
    "\n",
    "import matplotlib.pyplot as plt\n",
    "import matplotlib\n",
    "import warnings\n",
    "warnings.filterwarnings('ignore')\n",
    "plt.style.use('ggplot')\n",
    "%matplotlib inline\n",
    "matplotlib.rcParams['figure.figsize'] = (12,8)"
   ]
  },
  {
   "cell_type": "markdown",
   "id": "718e32eb",
   "metadata": {},
   "source": [
    "### Load Dataset"
   ]
  },
  {
   "cell_type": "code",
   "execution_count": 2,
   "id": "7a5f82b1",
   "metadata": {},
   "outputs": [
    {
     "data": {
      "text/html": [
       "<div>\n",
       "<style scoped>\n",
       "    .dataframe tbody tr th:only-of-type {\n",
       "        vertical-align: middle;\n",
       "    }\n",
       "\n",
       "    .dataframe tbody tr th {\n",
       "        vertical-align: top;\n",
       "    }\n",
       "\n",
       "    .dataframe thead th {\n",
       "        text-align: right;\n",
       "    }\n",
       "</style>\n",
       "<table border=\"1\" class=\"dataframe\">\n",
       "  <thead>\n",
       "    <tr style=\"text-align: right;\">\n",
       "      <th></th>\n",
       "      <th>Country</th>\n",
       "      <th>Year</th>\n",
       "      <th>Co2</th>\n",
       "      <th>Co2_per_capita</th>\n",
       "      <th>Gdp</th>\n",
       "      <th>Gdp_per_capita</th>\n",
       "      <th>Coal_co2</th>\n",
       "      <th>Cement_co2</th>\n",
       "      <th>Flaring_co2</th>\n",
       "      <th>Gas_co2</th>\n",
       "      <th>...</th>\n",
       "      <th>Cumulative_coal_co2</th>\n",
       "      <th>Cumulative_cement_co2</th>\n",
       "      <th>Cumulative_flaring_co2</th>\n",
       "      <th>Cumulative_gas_co2</th>\n",
       "      <th>Cumulative_oil_co2</th>\n",
       "      <th>Annual_co2_fossil_cement</th>\n",
       "      <th>Co2_per_gdp</th>\n",
       "      <th>Consumption_co2_per_gdp</th>\n",
       "      <th>Consumption_co2</th>\n",
       "      <th>Consumption_co2_per_capita</th>\n",
       "    </tr>\n",
       "  </thead>\n",
       "  <tbody>\n",
       "    <tr>\n",
       "      <th>0</th>\n",
       "      <td>India</td>\n",
       "      <td>1960</td>\n",
       "      <td>120581.961</td>\n",
       "      <td>0.267634</td>\n",
       "      <td>3.702988e+10</td>\n",
       "      <td>82.188603</td>\n",
       "      <td>88003183</td>\n",
       "      <td>4002217</td>\n",
       "      <td>NaN</td>\n",
       "      <td>NaN</td>\n",
       "      <td>...</td>\n",
       "      <td>2.544257e+09</td>\n",
       "      <td>40412383</td>\n",
       "      <td>NaN</td>\n",
       "      <td>NaN</td>\n",
       "      <td>2.509192e+08</td>\n",
       "      <td>111450248</td>\n",
       "      <td>0.2140</td>\n",
       "      <td>NaN</td>\n",
       "      <td>NaN</td>\n",
       "      <td>NaN</td>\n",
       "    </tr>\n",
       "    <tr>\n",
       "      <th>1</th>\n",
       "      <td>Japan</td>\n",
       "      <td>1960</td>\n",
       "      <td>232781.160</td>\n",
       "      <td>2.497223</td>\n",
       "      <td>4.430734e+10</td>\n",
       "      <td>475.319076</td>\n",
       "      <td>139144064</td>\n",
       "      <td>11139081</td>\n",
       "      <td>NaN</td>\n",
       "      <td>1.601168e+06</td>\n",
       "      <td>...</td>\n",
       "      <td>5.225208e+09</td>\n",
       "      <td>107824883</td>\n",
       "      <td>NaN</td>\n",
       "      <td>8.566389e+06</td>\n",
       "      <td>4.144143e+08</td>\n",
       "      <td>232499641</td>\n",
       "      <td>0.3889</td>\n",
       "      <td>NaN</td>\n",
       "      <td>NaN</td>\n",
       "      <td>NaN</td>\n",
       "    </tr>\n",
       "    <tr>\n",
       "      <th>2</th>\n",
       "      <td>Russia</td>\n",
       "      <td>1960</td>\n",
       "      <td>1448637.349</td>\n",
       "      <td>12.082349</td>\n",
       "      <td>NaN</td>\n",
       "      <td>NaN</td>\n",
       "      <td>585156284</td>\n",
       "      <td>13753032</td>\n",
       "      <td>NaN</td>\n",
       "      <td>6.163598e+07</td>\n",
       "      <td>...</td>\n",
       "      <td>9.795065e+09</td>\n",
       "      <td>106299829</td>\n",
       "      <td>NaN</td>\n",
       "      <td>2.953982e+08</td>\n",
       "      <td>3.075058e+09</td>\n",
       "      <td>882927058</td>\n",
       "      <td>1.3281</td>\n",
       "      <td>NaN</td>\n",
       "      <td>NaN</td>\n",
       "      <td>NaN</td>\n",
       "    </tr>\n",
       "    <tr>\n",
       "      <th>3</th>\n",
       "      <td>United States</td>\n",
       "      <td>1960</td>\n",
       "      <td>2890696.100</td>\n",
       "      <td>15.999779</td>\n",
       "      <td>5.433000e+11</td>\n",
       "      <td>3007.123445</td>\n",
       "      <td>917963904</td>\n",
       "      <td>28620891</td>\n",
       "      <td>30315936.0</td>\n",
       "      <td>6.300248e+08</td>\n",
       "      <td>...</td>\n",
       "      <td>7.964596e+10</td>\n",
       "      <td>582717047</td>\n",
       "      <td>4.409771e+08</td>\n",
       "      <td>9.410359e+09</td>\n",
       "      <td>2.888055e+10</td>\n",
       "      <td>2897138041</td>\n",
       "      <td>0.8880</td>\n",
       "      <td>NaN</td>\n",
       "      <td>NaN</td>\n",
       "      <td>NaN</td>\n",
       "    </tr>\n",
       "    <tr>\n",
       "      <th>4</th>\n",
       "      <td>India</td>\n",
       "      <td>1961</td>\n",
       "      <td>130402.187</td>\n",
       "      <td>0.283704</td>\n",
       "      <td>3.923244e+10</td>\n",
       "      <td>85.354301</td>\n",
       "      <td>95020481</td>\n",
       "      <td>4204885</td>\n",
       "      <td>NaN</td>\n",
       "      <td>3.664000e+03</td>\n",
       "      <td>...</td>\n",
       "      <td>2.639277e+09</td>\n",
       "      <td>44617268</td>\n",
       "      <td>NaN</td>\n",
       "      <td>3.664000e+03</td>\n",
       "      <td>2.722296e+08</td>\n",
       "      <td>120539453</td>\n",
       "      <td>0.2247</td>\n",
       "      <td>NaN</td>\n",
       "      <td>NaN</td>\n",
       "      <td>NaN</td>\n",
       "    </tr>\n",
       "    <tr>\n",
       "      <th>...</th>\n",
       "      <td>...</td>\n",
       "      <td>...</td>\n",
       "      <td>...</td>\n",
       "      <td>...</td>\n",
       "      <td>...</td>\n",
       "      <td>...</td>\n",
       "      <td>...</td>\n",
       "      <td>...</td>\n",
       "      <td>...</td>\n",
       "      <td>...</td>\n",
       "      <td>...</td>\n",
       "      <td>...</td>\n",
       "      <td>...</td>\n",
       "      <td>...</td>\n",
       "      <td>...</td>\n",
       "      <td>...</td>\n",
       "      <td>...</td>\n",
       "      <td>...</td>\n",
       "      <td>...</td>\n",
       "      <td>...</td>\n",
       "      <td>...</td>\n",
       "    </tr>\n",
       "    <tr>\n",
       "      <th>239</th>\n",
       "      <td>United States</td>\n",
       "      <td>2019</td>\n",
       "      <td>NaN</td>\n",
       "      <td>NaN</td>\n",
       "      <td>2.143320e+13</td>\n",
       "      <td>65279.529030</td>\n",
       "      <td>1098853710</td>\n",
       "      <td>40895869</td>\n",
       "      <td>84509725.0</td>\n",
       "      <td>1.694894e+09</td>\n",
       "      <td>...</td>\n",
       "      <td>1.747615e+11</td>\n",
       "      <td>2704391255</td>\n",
       "      <td>2.169299e+09</td>\n",
       "      <td>7.489984e+10</td>\n",
       "      <td>1.561177e+11</td>\n",
       "      <td>5255816207</td>\n",
       "      <td>NaN</td>\n",
       "      <td>NaN</td>\n",
       "      <td>5.625784e+09</td>\n",
       "      <td>17.0963</td>\n",
       "    </tr>\n",
       "    <tr>\n",
       "      <th>240</th>\n",
       "      <td>India</td>\n",
       "      <td>2020</td>\n",
       "      <td>NaN</td>\n",
       "      <td>NaN</td>\n",
       "      <td>2.660250e+12</td>\n",
       "      <td>1927.707823</td>\n",
       "      <td>1587552167</td>\n",
       "      <td>122908202</td>\n",
       "      <td>1678112.0</td>\n",
       "      <td>1.269841e+08</td>\n",
       "      <td>...</td>\n",
       "      <td>3.525095e+10</td>\n",
       "      <td>2475325116</td>\n",
       "      <td>1.662354e+08</td>\n",
       "      <td>2.348802e+09</td>\n",
       "      <td>1.417518e+10</td>\n",
       "      <td>2441792313</td>\n",
       "      <td>NaN</td>\n",
       "      <td>NaN</td>\n",
       "      <td>NaN</td>\n",
       "      <td>NaN</td>\n",
       "    </tr>\n",
       "    <tr>\n",
       "      <th>241</th>\n",
       "      <td>Japan</td>\n",
       "      <td>2020</td>\n",
       "      <td>NaN</td>\n",
       "      <td>NaN</td>\n",
       "      <td>5.057760e+12</td>\n",
       "      <td>40193.252440</td>\n",
       "      <td>402978629</td>\n",
       "      <td>25376205</td>\n",
       "      <td>393235.0</td>\n",
       "      <td>2.165437e+08</td>\n",
       "      <td>...</td>\n",
       "      <td>2.375566e+10</td>\n",
       "      <td>1982515504</td>\n",
       "      <td>1.525941e+07</td>\n",
       "      <td>6.834271e+09</td>\n",
       "      <td>3.274507e+10</td>\n",
       "      <td>1030775384</td>\n",
       "      <td>NaN</td>\n",
       "      <td>NaN</td>\n",
       "      <td>NaN</td>\n",
       "      <td>NaN</td>\n",
       "    </tr>\n",
       "    <tr>\n",
       "      <th>242</th>\n",
       "      <td>Russia</td>\n",
       "      <td>2020</td>\n",
       "      <td>NaN</td>\n",
       "      <td>NaN</td>\n",
       "      <td>1.483500e+12</td>\n",
       "      <td>10126.721790</td>\n",
       "      <td>356945515</td>\n",
       "      <td>20306193</td>\n",
       "      <td>46762006.0</td>\n",
       "      <td>7.475909e+08</td>\n",
       "      <td>...</td>\n",
       "      <td>4.513289e+10</td>\n",
       "      <td>1636978541</td>\n",
       "      <td>1.161175e+09</td>\n",
       "      <td>3.415749e+10</td>\n",
       "      <td>3.271505e+10</td>\n",
       "      <td>1577136041</td>\n",
       "      <td>NaN</td>\n",
       "      <td>NaN</td>\n",
       "      <td>NaN</td>\n",
       "      <td>NaN</td>\n",
       "    </tr>\n",
       "    <tr>\n",
       "      <th>243</th>\n",
       "      <td>United States</td>\n",
       "      <td>2020</td>\n",
       "      <td>NaN</td>\n",
       "      <td>NaN</td>\n",
       "      <td>2.095300e+13</td>\n",
       "      <td>63593.443620</td>\n",
       "      <td>888649393</td>\n",
       "      <td>40794578</td>\n",
       "      <td>84509725.0</td>\n",
       "      <td>1.654988e+09</td>\n",
       "      <td>...</td>\n",
       "      <td>1.756502e+11</td>\n",
       "      <td>2745185833</td>\n",
       "      <td>2.253809e+09</td>\n",
       "      <td>7.655483e+10</td>\n",
       "      <td>1.581382e+11</td>\n",
       "      <td>4712770573</td>\n",
       "      <td>NaN</td>\n",
       "      <td>NaN</td>\n",
       "      <td>NaN</td>\n",
       "      <td>NaN</td>\n",
       "    </tr>\n",
       "  </tbody>\n",
       "</table>\n",
       "<p>244 rows × 27 columns</p>\n",
       "</div>"
      ],
      "text/plain": [
       "           Country  Year          Co2  Co2_per_capita           Gdp  \\\n",
       "0            India  1960   120581.961        0.267634  3.702988e+10   \n",
       "1            Japan  1960   232781.160        2.497223  4.430734e+10   \n",
       "2           Russia  1960  1448637.349       12.082349           NaN   \n",
       "3    United States  1960  2890696.100       15.999779  5.433000e+11   \n",
       "4            India  1961   130402.187        0.283704  3.923244e+10   \n",
       "..             ...   ...          ...             ...           ...   \n",
       "239  United States  2019          NaN             NaN  2.143320e+13   \n",
       "240          India  2020          NaN             NaN  2.660250e+12   \n",
       "241          Japan  2020          NaN             NaN  5.057760e+12   \n",
       "242         Russia  2020          NaN             NaN  1.483500e+12   \n",
       "243  United States  2020          NaN             NaN  2.095300e+13   \n",
       "\n",
       "     Gdp_per_capita    Coal_co2  Cement_co2  Flaring_co2       Gas_co2  ...  \\\n",
       "0         82.188603    88003183     4002217          NaN           NaN  ...   \n",
       "1        475.319076   139144064    11139081          NaN  1.601168e+06  ...   \n",
       "2               NaN   585156284    13753032          NaN  6.163598e+07  ...   \n",
       "3       3007.123445   917963904    28620891   30315936.0  6.300248e+08  ...   \n",
       "4         85.354301    95020481     4204885          NaN  3.664000e+03  ...   \n",
       "..              ...         ...         ...          ...           ...  ...   \n",
       "239    65279.529030  1098853710    40895869   84509725.0  1.694894e+09  ...   \n",
       "240     1927.707823  1587552167   122908202    1678112.0  1.269841e+08  ...   \n",
       "241    40193.252440   402978629    25376205     393235.0  2.165437e+08  ...   \n",
       "242    10126.721790   356945515    20306193   46762006.0  7.475909e+08  ...   \n",
       "243    63593.443620   888649393    40794578   84509725.0  1.654988e+09  ...   \n",
       "\n",
       "     Cumulative_coal_co2  Cumulative_cement_co2  Cumulative_flaring_co2  \\\n",
       "0           2.544257e+09               40412383                     NaN   \n",
       "1           5.225208e+09              107824883                     NaN   \n",
       "2           9.795065e+09              106299829                     NaN   \n",
       "3           7.964596e+10              582717047            4.409771e+08   \n",
       "4           2.639277e+09               44617268                     NaN   \n",
       "..                   ...                    ...                     ...   \n",
       "239         1.747615e+11             2704391255            2.169299e+09   \n",
       "240         3.525095e+10             2475325116            1.662354e+08   \n",
       "241         2.375566e+10             1982515504            1.525941e+07   \n",
       "242         4.513289e+10             1636978541            1.161175e+09   \n",
       "243         1.756502e+11             2745185833            2.253809e+09   \n",
       "\n",
       "     Cumulative_gas_co2  Cumulative_oil_co2  Annual_co2_fossil_cement  \\\n",
       "0                   NaN        2.509192e+08                 111450248   \n",
       "1          8.566389e+06        4.144143e+08                 232499641   \n",
       "2          2.953982e+08        3.075058e+09                 882927058   \n",
       "3          9.410359e+09        2.888055e+10                2897138041   \n",
       "4          3.664000e+03        2.722296e+08                 120539453   \n",
       "..                  ...                 ...                       ...   \n",
       "239        7.489984e+10        1.561177e+11                5255816207   \n",
       "240        2.348802e+09        1.417518e+10                2441792313   \n",
       "241        6.834271e+09        3.274507e+10                1030775384   \n",
       "242        3.415749e+10        3.271505e+10                1577136041   \n",
       "243        7.655483e+10        1.581382e+11                4712770573   \n",
       "\n",
       "     Co2_per_gdp  Consumption_co2_per_gdp  Consumption_co2  \\\n",
       "0         0.2140                      NaN              NaN   \n",
       "1         0.3889                      NaN              NaN   \n",
       "2         1.3281                      NaN              NaN   \n",
       "3         0.8880                      NaN              NaN   \n",
       "4         0.2247                      NaN              NaN   \n",
       "..           ...                      ...              ...   \n",
       "239          NaN                      NaN     5.625784e+09   \n",
       "240          NaN                      NaN              NaN   \n",
       "241          NaN                      NaN              NaN   \n",
       "242          NaN                      NaN              NaN   \n",
       "243          NaN                      NaN              NaN   \n",
       "\n",
       "     Consumption_co2_per_capita  \n",
       "0                           NaN  \n",
       "1                           NaN  \n",
       "2                           NaN  \n",
       "3                           NaN  \n",
       "4                           NaN  \n",
       "..                          ...  \n",
       "239                     17.0963  \n",
       "240                         NaN  \n",
       "241                         NaN  \n",
       "242                         NaN  \n",
       "243                         NaN  \n",
       "\n",
       "[244 rows x 27 columns]"
      ]
     },
     "execution_count": 2,
     "metadata": {},
     "output_type": "execute_result"
    }
   ],
   "source": [
    "df = pd.read_csv(\"../dataset/merged_dataset.csv\")\n",
    "df"
   ]
  },
  {
   "cell_type": "markdown",
   "id": "c18d522f",
   "metadata": {},
   "source": [
    "## Descriptive Analysis"
   ]
  },
  {
   "cell_type": "code",
   "execution_count": 3,
   "id": "3a649a6a",
   "metadata": {
    "scrolled": true
   },
   "outputs": [
    {
     "data": {
      "text/html": [
       "<div>\n",
       "<style scoped>\n",
       "    .dataframe tbody tr th:only-of-type {\n",
       "        vertical-align: middle;\n",
       "    }\n",
       "\n",
       "    .dataframe tbody tr th {\n",
       "        vertical-align: top;\n",
       "    }\n",
       "\n",
       "    .dataframe thead th {\n",
       "        text-align: right;\n",
       "    }\n",
       "</style>\n",
       "<table border=\"1\" class=\"dataframe\">\n",
       "  <thead>\n",
       "    <tr style=\"text-align: right;\">\n",
       "      <th></th>\n",
       "      <th>Year</th>\n",
       "      <th>Co2</th>\n",
       "      <th>Co2_per_capita</th>\n",
       "      <th>Gdp</th>\n",
       "      <th>Gdp_per_capita</th>\n",
       "      <th>Coal_co2</th>\n",
       "      <th>Cement_co2</th>\n",
       "      <th>Flaring_co2</th>\n",
       "      <th>Gas_co2</th>\n",
       "      <th>Oil_co2</th>\n",
       "      <th>...</th>\n",
       "      <th>Cumulative_coal_co2</th>\n",
       "      <th>Cumulative_cement_co2</th>\n",
       "      <th>Cumulative_flaring_co2</th>\n",
       "      <th>Cumulative_gas_co2</th>\n",
       "      <th>Cumulative_oil_co2</th>\n",
       "      <th>Annual_co2_fossil_cement</th>\n",
       "      <th>Co2_per_gdp</th>\n",
       "      <th>Consumption_co2_per_gdp</th>\n",
       "      <th>Consumption_co2</th>\n",
       "      <th>Consumption_co2_per_capita</th>\n",
       "    </tr>\n",
       "  </thead>\n",
       "  <tbody>\n",
       "    <tr>\n",
       "      <th>count</th>\n",
       "      <td>244.000000</td>\n",
       "      <td>2.360000e+02</td>\n",
       "      <td>236.000000</td>\n",
       "      <td>2.160000e+02</td>\n",
       "      <td>216.000000</td>\n",
       "      <td>2.440000e+02</td>\n",
       "      <td>2.440000e+02</td>\n",
       "      <td>2.170000e+02</td>\n",
       "      <td>2.430000e+02</td>\n",
       "      <td>2.440000e+02</td>\n",
       "      <td>...</td>\n",
       "      <td>2.440000e+02</td>\n",
       "      <td>2.440000e+02</td>\n",
       "      <td>2.170000e+02</td>\n",
       "      <td>2.430000e+02</td>\n",
       "      <td>2.440000e+02</td>\n",
       "      <td>2.440000e+02</td>\n",
       "      <td>236.000000</td>\n",
       "      <td>116.000000</td>\n",
       "      <td>1.200000e+02</td>\n",
       "      <td>120.000000</td>\n",
       "    </tr>\n",
       "    <tr>\n",
       "      <th>mean</th>\n",
       "      <td>1990.000000</td>\n",
       "      <td>2.171208e+06</td>\n",
       "      <td>10.875571</td>\n",
       "      <td>3.308316e+12</td>\n",
       "      <td>15146.045461</td>\n",
       "      <td>7.553666e+08</td>\n",
       "      <td>3.303388e+07</td>\n",
       "      <td>1.468119e+07</td>\n",
       "      <td>4.562730e+08</td>\n",
       "      <td>8.473632e+08</td>\n",
       "      <td>...</td>\n",
       "      <td>4.436306e+10</td>\n",
       "      <td>1.045526e+09</td>\n",
       "      <td>4.403053e+08</td>\n",
       "      <td>1.390396e+10</td>\n",
       "      <td>3.219084e+10</td>\n",
       "      <td>2.111526e+09</td>\n",
       "      <td>0.568966</td>\n",
       "      <td>0.428041</td>\n",
       "      <td>2.467113e+09</td>\n",
       "      <td>10.351957</td>\n",
       "    </tr>\n",
       "    <tr>\n",
       "      <th>std</th>\n",
       "      <td>17.643008</td>\n",
       "      <td>1.720533e+06</td>\n",
       "      <td>7.831794</td>\n",
       "      <td>4.649007e+12</td>\n",
       "      <td>17716.952875</td>\n",
       "      <td>5.953264e+08</td>\n",
       "      <td>2.204596e+07</td>\n",
       "      <td>1.732800e+07</td>\n",
       "      <td>4.644445e+08</td>\n",
       "      <td>7.920679e+08</td>\n",
       "      <td>...</td>\n",
       "      <td>4.944129e+10</td>\n",
       "      <td>6.995926e+08</td>\n",
       "      <td>5.367647e+08</td>\n",
       "      <td>1.923076e+10</td>\n",
       "      <td>3.995524e+10</td>\n",
       "      <td>1.771432e+09</td>\n",
       "      <td>0.351115</td>\n",
       "      <td>0.174206</td>\n",
       "      <td>1.990638e+09</td>\n",
       "      <td>6.887018</td>\n",
       "    </tr>\n",
       "    <tr>\n",
       "      <th>min</th>\n",
       "      <td>1960.000000</td>\n",
       "      <td>1.205820e+05</td>\n",
       "      <td>0.267634</td>\n",
       "      <td>3.702988e+10</td>\n",
       "      <td>82.188603</td>\n",
       "      <td>8.800318e+07</td>\n",
       "      <td>4.002217e+06</td>\n",
       "      <td>4.030400e+04</td>\n",
       "      <td>3.664000e+03</td>\n",
       "      <td>1.944485e+07</td>\n",
       "      <td>...</td>\n",
       "      <td>2.544257e+09</td>\n",
       "      <td>4.041238e+07</td>\n",
       "      <td>4.030400e+04</td>\n",
       "      <td>3.664000e+03</td>\n",
       "      <td>2.509192e+08</td>\n",
       "      <td>1.114502e+08</td>\n",
       "      <td>0.214000</td>\n",
       "      <td>0.267500</td>\n",
       "      <td>5.779624e+08</td>\n",
       "      <td>0.661800</td>\n",
       "    </tr>\n",
       "    <tr>\n",
       "      <th>25%</th>\n",
       "      <td>1975.000000</td>\n",
       "      <td>9.137266e+05</td>\n",
       "      <td>2.322874</td>\n",
       "      <td>3.838642e+11</td>\n",
       "      <td>1020.881664</td>\n",
       "      <td>3.177325e+08</td>\n",
       "      <td>2.193848e+07</td>\n",
       "      <td>1.260440e+06</td>\n",
       "      <td>4.736453e+07</td>\n",
       "      <td>3.226163e+08</td>\n",
       "      <td>...</td>\n",
       "      <td>1.016174e+10</td>\n",
       "      <td>4.161383e+08</td>\n",
       "      <td>1.318131e+07</td>\n",
       "      <td>3.745138e+08</td>\n",
       "      <td>4.856618e+09</td>\n",
       "      <td>9.123656e+08</td>\n",
       "      <td>0.305875</td>\n",
       "      <td>0.324575</td>\n",
       "      <td>1.249328e+09</td>\n",
       "      <td>4.441600</td>\n",
       "    </tr>\n",
       "    <tr>\n",
       "      <th>50%</th>\n",
       "      <td>1990.000000</td>\n",
       "      <td>1.526520e+06</td>\n",
       "      <td>9.729611</td>\n",
       "      <td>1.309045e+12</td>\n",
       "      <td>5851.700295</td>\n",
       "      <td>4.765743e+08</td>\n",
       "      <td>3.224400e+07</td>\n",
       "      <td>6.631840e+06</td>\n",
       "      <td>2.233231e+08</td>\n",
       "      <td>5.571811e+08</td>\n",
       "      <td>...</td>\n",
       "      <td>2.086234e+10</td>\n",
       "      <td>1.021972e+09</td>\n",
       "      <td>1.560678e+08</td>\n",
       "      <td>3.401753e+09</td>\n",
       "      <td>1.796664e+10</td>\n",
       "      <td>1.467037e+09</td>\n",
       "      <td>0.411800</td>\n",
       "      <td>0.360200</td>\n",
       "      <td>1.463176e+09</td>\n",
       "      <td>10.476450</td>\n",
       "    </tr>\n",
       "    <tr>\n",
       "      <th>75%</th>\n",
       "      <td>2005.000000</td>\n",
       "      <td>3.545357e+06</td>\n",
       "      <td>18.576282</td>\n",
       "      <td>4.585228e+12</td>\n",
       "      <td>29178.184330</td>\n",
       "      <td>1.111765e+09</td>\n",
       "      <td>3.677308e+07</td>\n",
       "      <td>2.624890e+07</td>\n",
       "      <td>7.852882e+08</td>\n",
       "      <td>9.864219e+08</td>\n",
       "      <td>...</td>\n",
       "      <td>5.376115e+10</td>\n",
       "      <td>1.544094e+09</td>\n",
       "      <td>7.578362e+08</td>\n",
       "      <td>2.278665e+10</td>\n",
       "      <td>3.233663e+10</td>\n",
       "      <td>2.691150e+09</td>\n",
       "      <td>0.800275</td>\n",
       "      <td>0.470725</td>\n",
       "      <td>3.045139e+09</td>\n",
       "      <td>14.784225</td>\n",
       "    </tr>\n",
       "    <tr>\n",
       "      <th>max</th>\n",
       "      <td>2020.000000</td>\n",
       "      <td>5.776410e+06</td>\n",
       "      <td>26.899265</td>\n",
       "      <td>2.143320e+13</td>\n",
       "      <td>65279.529030</td>\n",
       "      <td>2.214838e+09</td>\n",
       "      <td>1.436641e+08</td>\n",
       "      <td>8.450972e+07</td>\n",
       "      <td>1.694894e+09</td>\n",
       "      <td>2.608477e+09</td>\n",
       "      <td>...</td>\n",
       "      <td>1.756502e+11</td>\n",
       "      <td>2.745186e+09</td>\n",
       "      <td>2.253809e+09</td>\n",
       "      <td>7.655483e+10</td>\n",
       "      <td>1.581382e+11</td>\n",
       "      <td>6.134521e+09</td>\n",
       "      <td>1.376400</td>\n",
       "      <td>1.167400</td>\n",
       "      <td>6.618792e+09</td>\n",
       "      <td>22.439600</td>\n",
       "    </tr>\n",
       "  </tbody>\n",
       "</table>\n",
       "<p>8 rows × 26 columns</p>\n",
       "</div>"
      ],
      "text/plain": [
       "              Year           Co2  Co2_per_capita           Gdp  \\\n",
       "count   244.000000  2.360000e+02      236.000000  2.160000e+02   \n",
       "mean   1990.000000  2.171208e+06       10.875571  3.308316e+12   \n",
       "std      17.643008  1.720533e+06        7.831794  4.649007e+12   \n",
       "min    1960.000000  1.205820e+05        0.267634  3.702988e+10   \n",
       "25%    1975.000000  9.137266e+05        2.322874  3.838642e+11   \n",
       "50%    1990.000000  1.526520e+06        9.729611  1.309045e+12   \n",
       "75%    2005.000000  3.545357e+06       18.576282  4.585228e+12   \n",
       "max    2020.000000  5.776410e+06       26.899265  2.143320e+13   \n",
       "\n",
       "       Gdp_per_capita      Coal_co2    Cement_co2   Flaring_co2       Gas_co2  \\\n",
       "count      216.000000  2.440000e+02  2.440000e+02  2.170000e+02  2.430000e+02   \n",
       "mean     15146.045461  7.553666e+08  3.303388e+07  1.468119e+07  4.562730e+08   \n",
       "std      17716.952875  5.953264e+08  2.204596e+07  1.732800e+07  4.644445e+08   \n",
       "min         82.188603  8.800318e+07  4.002217e+06  4.030400e+04  3.664000e+03   \n",
       "25%       1020.881664  3.177325e+08  2.193848e+07  1.260440e+06  4.736453e+07   \n",
       "50%       5851.700295  4.765743e+08  3.224400e+07  6.631840e+06  2.233231e+08   \n",
       "75%      29178.184330  1.111765e+09  3.677308e+07  2.624890e+07  7.852882e+08   \n",
       "max      65279.529030  2.214838e+09  1.436641e+08  8.450972e+07  1.694894e+09   \n",
       "\n",
       "            Oil_co2  ...  Cumulative_coal_co2  Cumulative_cement_co2  \\\n",
       "count  2.440000e+02  ...         2.440000e+02           2.440000e+02   \n",
       "mean   8.473632e+08  ...         4.436306e+10           1.045526e+09   \n",
       "std    7.920679e+08  ...         4.944129e+10           6.995926e+08   \n",
       "min    1.944485e+07  ...         2.544257e+09           4.041238e+07   \n",
       "25%    3.226163e+08  ...         1.016174e+10           4.161383e+08   \n",
       "50%    5.571811e+08  ...         2.086234e+10           1.021972e+09   \n",
       "75%    9.864219e+08  ...         5.376115e+10           1.544094e+09   \n",
       "max    2.608477e+09  ...         1.756502e+11           2.745186e+09   \n",
       "\n",
       "       Cumulative_flaring_co2  Cumulative_gas_co2  Cumulative_oil_co2  \\\n",
       "count            2.170000e+02        2.430000e+02        2.440000e+02   \n",
       "mean             4.403053e+08        1.390396e+10        3.219084e+10   \n",
       "std              5.367647e+08        1.923076e+10        3.995524e+10   \n",
       "min              4.030400e+04        3.664000e+03        2.509192e+08   \n",
       "25%              1.318131e+07        3.745138e+08        4.856618e+09   \n",
       "50%              1.560678e+08        3.401753e+09        1.796664e+10   \n",
       "75%              7.578362e+08        2.278665e+10        3.233663e+10   \n",
       "max              2.253809e+09        7.655483e+10        1.581382e+11   \n",
       "\n",
       "       Annual_co2_fossil_cement  Co2_per_gdp  Consumption_co2_per_gdp  \\\n",
       "count              2.440000e+02   236.000000               116.000000   \n",
       "mean               2.111526e+09     0.568966                 0.428041   \n",
       "std                1.771432e+09     0.351115                 0.174206   \n",
       "min                1.114502e+08     0.214000                 0.267500   \n",
       "25%                9.123656e+08     0.305875                 0.324575   \n",
       "50%                1.467037e+09     0.411800                 0.360200   \n",
       "75%                2.691150e+09     0.800275                 0.470725   \n",
       "max                6.134521e+09     1.376400                 1.167400   \n",
       "\n",
       "       Consumption_co2  Consumption_co2_per_capita  \n",
       "count     1.200000e+02                  120.000000  \n",
       "mean      2.467113e+09                   10.351957  \n",
       "std       1.990638e+09                    6.887018  \n",
       "min       5.779624e+08                    0.661800  \n",
       "25%       1.249328e+09                    4.441600  \n",
       "50%       1.463176e+09                   10.476450  \n",
       "75%       3.045139e+09                   14.784225  \n",
       "max       6.618792e+09                   22.439600  \n",
       "\n",
       "[8 rows x 26 columns]"
      ]
     },
     "execution_count": 3,
     "metadata": {},
     "output_type": "execute_result"
    }
   ],
   "source": [
    "df.describe()"
   ]
  },
  {
   "cell_type": "markdown",
   "id": "d3c2a34b",
   "metadata": {},
   "source": [
    "## Exploratory Data Analysis(EDA)"
   ]
  },
  {
   "cell_type": "code",
   "execution_count": 4,
   "id": "bc87a164",
   "metadata": {},
   "outputs": [
    {
     "data": {
      "text/plain": [
       "(244, 27)"
      ]
     },
     "execution_count": 4,
     "metadata": {},
     "output_type": "execute_result"
    }
   ],
   "source": [
    "df.shape"
   ]
  },
  {
   "cell_type": "code",
   "execution_count": 5,
   "id": "9525dfca",
   "metadata": {},
   "outputs": [
    {
     "data": {
      "text/plain": [
       "Country                         0\n",
       "Year                            0\n",
       "Co2                             8\n",
       "Co2_per_capita                  8\n",
       "Gdp                            28\n",
       "Gdp_per_capita                 28\n",
       "Coal_co2                        0\n",
       "Cement_co2                      0\n",
       "Flaring_co2                    27\n",
       "Gas_co2                         1\n",
       "Oil_co2                         0\n",
       "Coal_co2_per_capita             0\n",
       "Cement_co2_per_capita           0\n",
       "Flaring_co2_per_capita         27\n",
       "Gas_co2_per_capita              1\n",
       "Oil_co2_per_capita              0\n",
       "Cumulative_co2                  0\n",
       "Cumulative_coal_co2             0\n",
       "Cumulative_cement_co2           0\n",
       "Cumulative_flaring_co2         27\n",
       "Cumulative_gas_co2              1\n",
       "Cumulative_oil_co2              0\n",
       "Annual_co2_fossil_cement        0\n",
       "Co2_per_gdp                     8\n",
       "Consumption_co2_per_gdp       128\n",
       "Consumption_co2               124\n",
       "Consumption_co2_per_capita    124\n",
       "dtype: int64"
      ]
     },
     "execution_count": 5,
     "metadata": {},
     "output_type": "execute_result"
    }
   ],
   "source": [
    "#Check missing values\n",
    "df.isnull().sum()"
   ]
  },
  {
   "cell_type": "code",
   "execution_count": 6,
   "id": "0e1d24f8",
   "metadata": {},
   "outputs": [
    {
     "data": {
      "text/plain": [
       "(192, 24)"
      ]
     },
     "execution_count": 6,
     "metadata": {},
     "output_type": "execute_result"
    }
   ],
   "source": [
    "#Let's find out the columns which have atleast 50% of non-null row\n",
    "df.columns[df.notnull().mean() >= 0.5]\n",
    "\n",
    "df_not_null = df.drop(df.columns[df.notnull().mean() < 0.5], axis=1)\n",
    "\n",
    "# Removing the null values from the dataset by using the 'dropna()' function\n",
    "df_not_null.dropna(inplace=True)\n",
    "df_not_null.shape"
   ]
  },
  {
   "cell_type": "markdown",
   "id": "ab2c6760",
   "metadata": {},
   "source": [
    "## Diagnostic Analysis"
   ]
  },
  {
   "cell_type": "markdown",
   "id": "6e712653",
   "metadata": {},
   "source": [
    "### Detecting the Outliers with BoxPlot"
   ]
  },
  {
   "cell_type": "code",
   "execution_count": 7,
   "id": "fa720cc2",
   "metadata": {},
   "outputs": [
    {
     "data": {
      "text/plain": [
       "<AxesSubplot:xlabel='Gdp'>"
      ]
     },
     "execution_count": 7,
     "metadata": {},
     "output_type": "execute_result"
    },
    {
     "data": {
      "image/png": "[encoded data removed]",
      "text/plain": [
       "<Figure size 864x576 with 1 Axes>"
      ]
     },
     "metadata": {
      "needs_background": "light"
     },
     "output_type": "display_data"
    }
   ],
   "source": [
    "sns.boxplot(x = df_not_null['Gdp'])"
   ]
  },
  {
   "cell_type": "markdown",
   "id": "95467248",
   "metadata": {},
   "source": [
    "The easy way of spotting outliers is visualizing it with the help of boxplot() function. \n",
    "\n",
    "Then, we can check all outliers in our dataset programmatically as follows: "
   ]
  },
  {
   "cell_type": "code",
   "execution_count": 8,
   "id": "8f2c4b58",
   "metadata": {},
   "outputs": [
    {
     "name": "stdout",
     "output_type": "stream",
     "text": [
      "Upper and Lower bound:  ([131, 135, 139, 143, 147, 151, 155, 159, 163, 167, 171, 175, 179, 183, 187, 191], [])\n",
      "Upper and Lower bound:  ([140, 144, 148, 152, 156, 160, 164, 168, 172, 176, 180, 184, 188], [])\n",
      "Upper and Lower bound:  ([191], [])\n",
      "Upper and Lower bound:  ([159, 163, 167, 171, 175, 179, 183, 187, 191], [])\n",
      "Upper and Lower bound:  ([183, 187, 191], [])\n",
      "Upper and Lower bound:  ([175, 179, 183, 187, 191], [])\n",
      "Upper and Lower bound:  ([111, 115, 119, 123, 127, 131, 135, 139, 143, 147, 151, 155, 159, 163, 167, 171, 175, 179, 183, 187, 191], [])\n"
     ]
    }
   ],
   "source": [
    "# Detecting IQR, 75th and 25th *percentiles*\n",
    "def detect_outliers(colname):\n",
    "    Q1 = np.percentile(colname, 25, interpolation = 'midpoint')\n",
    " \n",
    "    Q3 = np.percentile(colname, 75, interpolation = 'midpoint')\n",
    "\n",
    "    IQR = Q3 - Q1\n",
    "\n",
    "    # Upper bound\n",
    "    upper = np.where(colname >= (Q3 + 1.5 * IQR))\n",
    "\n",
    "    # Lower bound\n",
    "    lower = np.where(colname <= (Q1 - 1.5 * IQR))\n",
    "    \n",
    "    return upper[0].tolist(), lower[0].tolist()\n",
    "\n",
    "# spotting the outlier of each variable which has no missing values(already have been cleaned in previous step)\n",
    "print(\"Upper and Lower bound: \", detect_outliers(df_not_null['Gdp']))\n",
    "print(\"Upper and Lower bound: \", detect_outliers(df_not_null['Cement_co2']))\n",
    "print(\"Upper and Lower bound: \", detect_outliers(df_not_null['Flaring_co2']))\n",
    "print(\"Upper and Lower bound: \", detect_outliers(df_not_null['Cumulative_co2']))\n",
    "print(\"Upper and Lower bound: \", detect_outliers(df_not_null['Cumulative_flaring_co2']))\n",
    "print(\"Upper and Lower bound: \", detect_outliers(df_not_null['Cumulative_gas_co2']))\n",
    "print(\"Upper and Lower bound: \", detect_outliers(df_not_null['Cumulative_oil_co2']))\n",
    "\n",
    "# Ref https://www.geeksforgeeks.org/detect-and-remove-the-outliers-using-python/"
   ]
  },
  {
   "cell_type": "code",
   "execution_count": 9,
   "id": "979dbc38",
   "metadata": {},
   "outputs": [],
   "source": [
    "# based on the above codes, the variable names with count of outliers in that variables have __\n",
    "\n",
    "# 1) Gdp - 16 observation(s) with the row number(s), [131, 135, 139, 143, 147, 151, 155, 159, 163, 167, 171, 175, 179, 183, 187, 191]\n",
    "# 2) Cement_co2 - 13 observation(s) \n",
    "# 3) Flaring_co2 - 1 observation(s) \n",
    "# 4) Cumulative_co2 - 9 observation(s) \n",
    "# 5) Cumulative_flaring_co2 - 3 observation(s)\n",
    "# 6) Cumulative_gas_co2 - 5 observation(s)\n",
    "# 7) Cumulative_oil_co2 - 21 observation(s) with the row number(s), [111, 115, 119, 123, 127, 131, 135, 139, 143, 147, 151, 155, 159, 163, 167, 171, 175, 179, 183, 187, 191]"
   ]
  },
  {
   "cell_type": "code",
   "execution_count": 10,
   "id": "da161538",
   "metadata": {},
   "outputs": [
    {
     "data": {
      "image/png": "[encoded data removed]",
      "text/plain": [
       "<Figure size 864x576 with 1 Axes>"
      ]
     },
     "metadata": {
      "needs_background": "light"
     },
     "output_type": "display_data"
    }
   ],
   "source": [
    "# Plotting the Gdp variable on graph\n",
    "sns.lineplot(x = \"Year\", y='Gdp', hue='Country', style=\"Country\", data = df_not_null)\n",
    "plt.show()"
   ]
  },
  {
   "cell_type": "markdown",
   "id": "aa44a566",
   "metadata": {},
   "source": [
    "### Detecting and Removing the Outliers"
   ]
  },
  {
   "cell_type": "code",
   "execution_count": 11,
   "id": "068169e1",
   "metadata": {},
   "outputs": [
    {
     "name": "stdout",
     "output_type": "stream",
     "text": [
      "Year                        2.650000e+01\n",
      "Co2                         3.396445e+06\n",
      "Co2_per_capita              1.552225e+01\n",
      "Gdp                         4.264872e+12\n",
      "Gdp_per_capita              3.015247e+04\n",
      "Coal_co2                    9.632600e+08\n",
      "Cement_co2                  1.525666e+07\n",
      "Flaring_co2                 2.567776e+07\n",
      "Gas_co2                     8.445163e+08\n",
      "Oil_co2                     1.645567e+09\n",
      "Coal_co2_per_capita         4.562025e+00\n",
      "Cement_co2_per_capita       1.244000e-01\n",
      "Flaring_co2_per_capita      1.258750e-01\n",
      "Gas_co2_per_capita          4.432875e+00\n",
      "Oil_co2_per_capita          6.707400e+00\n",
      "Cumulative_co2              1.366219e+11\n",
      "Cumulative_coal_co2         8.045759e+10\n",
      "Cumulative_cement_co2       9.736714e+08\n",
      "Cumulative_flaring_co2      7.571311e+08\n",
      "Cumulative_gas_co2          2.616041e+10\n",
      "Cumulative_oil_co2          3.881611e+10\n",
      "Annual_co2_fossil_cement    3.422212e+09\n",
      "Co2_per_gdp                 2.640000e-01\n",
      "dtype: float64\n"
     ]
    },
    {
     "data": {
      "text/plain": [
       "(145, 24)"
      ]
     },
     "execution_count": 11,
     "metadata": {},
     "output_type": "execute_result"
    }
   ],
   "source": [
    "# IQR: The interquartile range (IQR) is a measure of statistical dispersion, being equal to \n",
    "# the difference between 75th and 25th *percentiles*, \n",
    "# or between upper and lower *quartiles*.\n",
    "\n",
    "# This is the alternative method of detecting outliers\n",
    "Q1_df = df_not_null.quantile(0.25)\n",
    "Q3_df = df_not_null.quantile(0.75)\n",
    "\n",
    "IQR_df = Q3_df - Q1_df\n",
    "print(IQR_df)\n",
    "\n",
    "# At this step, we removed all the outliers from our dataset\n",
    "df_clean_outlier_IQR = df_not_null[~((df_not_null < (Q1_df - 1.5 * IQR_df)) | (df_not_null > (Q3_df + 1.5 * IQR_df))).any(axis = 1)]\n",
    "df_clean_outlier_IQR.shape"
   ]
  },
  {
   "cell_type": "code",
   "execution_count": 12,
   "id": "e233213a",
   "metadata": {},
   "outputs": [
    {
     "data": {
      "text/plain": [
       "<AxesSubplot:xlabel='Gdp'>"
      ]
     },
     "execution_count": 12,
     "metadata": {},
     "output_type": "execute_result"
    },
    {
     "data": {
      "image/png": "[encoded data removed]",
      "text/plain": [
       "<Figure size 864x576 with 1 Axes>"
      ]
     },
     "metadata": {
      "needs_background": "light"
     },
     "output_type": "display_data"
    }
   ],
   "source": [
    "# We checked the outliers in Gdp variable again \n",
    "sns.boxplot(x = df_clean_outlier_IQR['Gdp'])"
   ]
  },
  {
   "cell_type": "markdown",
   "id": "d9f467cd",
   "metadata": {},
   "source": [
    "**There is no more outliers.**"
   ]
  },
  {
   "cell_type": "code",
   "execution_count": 13,
   "id": "83e3b8a9",
   "metadata": {},
   "outputs": [
    {
     "data": {
      "image/png": "[encoded data removed]",
      "text/plain": [
       "<Figure size 864x576 with 1 Axes>"
      ]
     },
     "metadata": {
      "needs_background": "light"
     },
     "output_type": "display_data"
    }
   ],
   "source": [
    "# Plotting the no outlier Gdp data on graph again\n",
    "sns.lineplot(x = \"Year\", y='Gdp', hue='Country', style=\"Country\", data = df_clean_outlier_IQR)\n",
    "plt.show()"
   ]
  },
  {
   "cell_type": "markdown",
   "id": "e2d1ab37",
   "metadata": {},
   "source": [
    "**Notice! there is no more Gdp data around 1995 in the dataset.** \n",
    "\n",
    "Therefore, removing the outliers from the dataset might not be a workable solution. Instead, log transformation of data would be an alternative way of addressing outlier from our dataset as follows: "
   ]
  },
  {
   "cell_type": "code",
   "execution_count": 14,
   "id": "6b9aaca8",
   "metadata": {},
   "outputs": [
    {
     "data": {
      "text/plain": [
       "Text(0.5, 1.0, 'Log-Transformed Data')"
      ]
     },
     "execution_count": 14,
     "metadata": {},
     "output_type": "execute_result"
    },
    {
     "data": {
      "image/png": "[encoded data removed]",
      "text/plain": [
       "<Figure size 864x576 with 2 Axes>"
      ]
     },
     "metadata": {
      "needs_background": "light"
     },
     "output_type": "display_data"
    }
   ],
   "source": [
    "#create log-transformed data\n",
    "df_not_null['Log_gdp'] = np.log(df_not_null['Gdp'])\n",
    "\n",
    "#define grid of plots\n",
    "fig, axs = plt.subplots(nrows=1, ncols=2)\n",
    "\n",
    "#create histograms\n",
    "axs[0].hist(df_not_null['Gdp'], edgecolor='black')\n",
    "axs[1].hist(df_not_null['Log_gdp'], edgecolor='black')\n",
    "\n",
    "#add title to each histogram\n",
    "axs[0].set_title('Original Data')\n",
    "axs[1].set_title('Log-Transformed Data')"
   ]
  },
  {
   "cell_type": "code",
   "execution_count": 15,
   "id": "291ac464",
   "metadata": {},
   "outputs": [
    {
     "data": {
      "text/plain": [
       "<AxesSubplot:xlabel='Log_gdp'>"
      ]
     },
     "execution_count": 15,
     "metadata": {},
     "output_type": "execute_result"
    },
    {
     "data": {
      "image/png": "[encoded data removed]",
      "text/plain": [
       "<Figure size 864x576 with 1 Axes>"
      ]
     },
     "metadata": {
      "needs_background": "light"
     },
     "output_type": "display_data"
    }
   ],
   "source": [
    "# Detecting the outlier from log transformed Gdp \n",
    "sns.boxplot(x = df_not_null['Log_gdp'])"
   ]
  },
  {
   "cell_type": "markdown",
   "id": "6810d633",
   "metadata": {},
   "source": [
    "### Interpretation"
   ]
  },
  {
   "cell_type": "markdown",
   "id": "aba27292",
   "metadata": {},
   "source": [
    "Outliers can affect the outcome of an analysis. There are two types of outliers called **univariate and multivariate**.  \n",
    "\n",
    "Among them, we(I) analyzed the dataset with univariate outliers which are extreme values in the distribution of a specific variable.  \n",
    " \n",
    "For example, a univariate outlier could be a human age measurement of 120 years.  \n",
    "  \n",
    "There are two steps in analyzing the outliers,  \n",
    "\n",
    "1. Analyzing\n",
    "\n",
    "We detected the univariate outliers in the variables and removed them all.  \n",
    "\n",
    "Then, we analyzed the variables with and without outliers again. We interestingly found that removing the outliers could lose the data and which can affect some further data analysis.  \n",
    "\n",
    "\n",
    "2. Handling(workaround)\n",
    "\n",
    "Log transformation on the variables which have outliers would be suggested solution "
   ]
  },
  {
   "cell_type": "markdown",
   "id": "545e9f74",
   "metadata": {},
   "source": [
    "# References\n",
    "\n",
    "“Introduction to Exploratory Data Analysis In Python.” Edureka, 29 July 2019, https://www.edureka.co/blog/exploratory-data-analysis-in-python/.\n",
    "\n",
    "“Detect and Remove the Outliers Using Python.” GeeksforGeeks, 23 Feb. 2021, https://www.geeksforgeeks.org/detect-and-remove-the-outliers-using-python/."
   ]
  }
 ],
 "metadata": {
  "kernelspec": {
   "display_name": "Python 3 (ipykernel)",
   "language": "python",
   "name": "python3"
  },
  "language_info": {
   "codemirror_mode": {
    "name": "ipython",
    "version": 3
   },
   "file_extension": ".py",
   "mimetype": "text/x-python",
   "name": "python",
   "nbconvert_exporter": "python",
   "pygments_lexer": "ipython3",
   "version": "3.9.7"
  }
 },
 "nbformat": 4,
 "nbformat_minor": 5
}
